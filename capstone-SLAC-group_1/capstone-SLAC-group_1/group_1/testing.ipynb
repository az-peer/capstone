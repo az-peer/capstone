{
 "cells": [
  {
   "cell_type": "code",
   "execution_count": 1,
   "id": "c58aa2d3-ecbf-43b4-be26-eb02fe4315d4",
   "metadata": {},
   "outputs": [],
   "source": [
    "import torch \n",
    "from torch.utils.data import Subset, DataLoader, random_split, SubsetRandomSampler\n",
    "from torchvision import transforms\n",
    "from torch.utils.data import Dataset\n",
    "import numpy as np\n",
    "import matplotlib.pyplot as plt\n",
    "from data_setup import ImageFolder, create_validation, create_dataloaders\n",
    "import h5py\n",
    "import os\n",
    "from torchvision import models\n",
    "from torch import nn\n",
    "from baseline_model import simpleCNN\n",
    "from engine import train_step, test_step, train, create_writer\n",
    "from torch.utils.tensorboard import SummaryWriter\n",
    "from datetime import datetime"
   ]
  },
  {
   "cell_type": "code",
   "execution_count": 2,
   "id": "b7e72bca-7e21-46d2-af26-b22ebe761b39",
   "metadata": {},
   "outputs": [],
   "source": [
    "training_dataloader, testing_dataloader = create_dataloaders(training_dir = 'master.hdf5', \n",
    "                                                             batch_size=32, \n",
    "                                                             num_workers=os.cpu_count(),\n",
    "                                                             train_prop=0.8)"
   ]
  },
  {
   "cell_type": "code",
   "execution_count": 3,
   "id": "6b159258-97aa-4a35-9739-75cfbef66d05",
   "metadata": {},
   "outputs": [],
   "source": [
    "device = 'cuda' if torch.cuda.is_available() else 'cpu'"
   ]
  },
  {
   "cell_type": "code",
   "execution_count": 4,
   "id": "f8ea5e33-629d-4acc-ba06-c5b34a775dcf",
   "metadata": {},
   "outputs": [
    {
     "data": {
      "text/plain": [
       "'cuda'"
      ]
     },
     "execution_count": 4,
     "metadata": {},
     "output_type": "execute_result"
    }
   ],
   "source": [
    "device"
   ]
  },
  {
   "cell_type": "code",
   "execution_count": 5,
   "id": "af9be0ea-c576-46b8-81af-2097cf528674",
   "metadata": {},
   "outputs": [],
   "source": [
    "# we need to create a model \n",
    "baseline_model = simpleCNN(\n",
    "    input_shape=1,\n",
    "    output_shape=2\n",
    ")"
   ]
  },
  {
   "cell_type": "code",
   "execution_count": 6,
   "id": "b698000b-efee-46a4-854c-be4c38d22aeb",
   "metadata": {},
   "outputs": [
    {
     "data": {
      "text/plain": [
       "========================================================================================================================\n",
       "Layer (type (var_name))                  Input Shape          Output Shape         Param #              Trainable\n",
       "========================================================================================================================\n",
       "simpleCNN (simpleCNN)                    [32, 1, 820, 820]    [32, 2, 1]           --                   True\n",
       "├─Conv2d (conv1)                         [32, 1, 820, 820]    [32, 32, 820, 820]   320                  True\n",
       "├─ReLU (relu)                            [32, 32, 820, 820]   [32, 32, 820, 820]   --                   --\n",
       "├─MaxPool2d (pool)                       [32, 32, 820, 820]   [32, 32, 410, 410]   --                   --\n",
       "├─Conv2d (conv2)                         [32, 32, 410, 410]   [32, 64, 410, 410]   18,496               True\n",
       "├─ReLU (relu)                            [32, 64, 410, 410]   [32, 64, 410, 410]   --                   --\n",
       "├─MaxPool2d (pool)                       [32, 64, 410, 410]   [32, 64, 205, 205]   --                   --\n",
       "├─Conv2d (conv3)                         [32, 64, 205, 205]   [32, 128, 205, 205]  73,856               True\n",
       "├─ReLU (relu)                            [32, 128, 205, 205]  [32, 128, 205, 205]  --                   --\n",
       "├─Conv2d (conv_f)                        [32, 128, 205, 205]  [32, 10, 205, 205]   1,290                True\n",
       "├─Flatten (flatten)                      [32, 10, 205, 205]   [32, 420250]         --                   --\n",
       "├─Linear (fc1)                           [32, 420250]         [32, 10]             4,202,510            True\n",
       "├─ReLU (relu)                            [32, 10]             [32, 10]             --                   --\n",
       "├─Linear (output)                        [32, 10]             [32, 2]              22                   True\n",
       "========================================================================================================================\n",
       "Total params: 4,296,494\n",
       "Trainable params: 4,296,494\n",
       "Non-trainable params: 0\n",
       "Total mult-adds (G): 207.57\n",
       "========================================================================================================================\n",
       "Input size (MB): 86.07\n",
       "Forward/backward pass size (MB): 9747.11\n",
       "Params size (MB): 17.19\n",
       "Estimated Total Size (MB): 9850.37\n",
       "========================================================================================================================"
      ]
     },
     "execution_count": 6,
     "metadata": {},
     "output_type": "execute_result"
    }
   ],
   "source": [
    "# looking at the summar of the model \n",
    "from torchinfo import summary\n",
    "summary(model=baseline_model, \n",
    "        input_size=(32, 1, 820, 820), # make sure this is \"input_size\", not \"input_shape\"\n",
    "        col_names=[\"input_size\", \"output_size\", \"num_params\", \"trainable\"],\n",
    "        col_width=20,\n",
    "        row_settings=[\"var_names\"]\n",
    ")"
   ]
  },
  {
   "cell_type": "code",
   "execution_count": 7,
   "id": "02a3aa70-8e57-4017-845c-225e4c07dae8",
   "metadata": {},
   "outputs": [],
   "source": [
    "# we need to look into loss functions that will work with the shape of our data \n",
    "# we will first keep track of the MSE and the l1 loss \n",
    "from torch import optim\n",
    "loss_fn = nn.MSELoss()\n",
    "l1_loss = nn.L1Loss()\n",
    "optimizer = optim.Adam(baseline_model.parameters(), lr=0.001) \n",
    "\n",
    "# we create the summary writer instance for TensorBoard\n",
    "writer = create_writer(expirement_name='first_log',\n",
    "                      model_name='baseline_model',\n",
    "                      extra='five_epochs')"
   ]
  },
  {
   "cell_type": "code",
   "execution_count": 8,
   "id": "c68811ce-0015-4d7f-9583-2fa16a5d200b",
   "metadata": {},
   "outputs": [
    {
     "data": {
      "application/vnd.jupyter.widget-view+json": {
       "model_id": "683a7b5be060472db79b0ea982765a82",
       "version_major": 2,
       "version_minor": 0
      },
      "text/plain": [
       "  0%|          | 0/5 [00:00<?, ?it/s]"
      ]
     },
     "metadata": {},
     "output_type": "display_data"
    },
    {
     "name": "stdout",
     "output_type": "stream",
     "text": [
      "On batch number 1\n",
      "On batch number 101\n",
      "On batch number 201\n",
      "EPOCH: 1 | TRAIN LOSS: 14319.839 | TRAIN METRIC: 47.954 | TEST LOSS: 31.154 | TEST METRIC: 4.611\n",
      "On batch number 1\n",
      "On batch number 101\n",
      "On batch number 201\n",
      "EPOCH: 2 | TRAIN LOSS: 46.387 | TRAIN METRIC: 5.533 | TEST LOSS: 31.358 | TEST METRIC: 4.892\n",
      "On batch number 1\n",
      "On batch number 101\n",
      "On batch number 201\n",
      "EPOCH: 3 | TRAIN LOSS: 34.369 | TRAIN METRIC: 4.676 | TEST LOSS: 9.817 | TEST METRIC: 2.562\n",
      "On batch number 1\n",
      "On batch number 101\n",
      "On batch number 201\n",
      "EPOCH: 4 | TRAIN LOSS: 29.317 | TRAIN METRIC: 4.504 | TEST LOSS: 11.230 | TEST METRIC: 2.835\n",
      "On batch number 1\n",
      "On batch number 101\n",
      "On batch number 201\n",
      "EPOCH: 5 | TRAIN LOSS: 21.196 | TRAIN METRIC: 3.644 | TEST LOSS: 12.964 | TEST METRIC: 3.092\n"
     ]
    }
   ],
   "source": [
    "# testing whether this works \n",
    "from torch import nn\n",
    "model_results = train(model = baseline_model,\n",
    "                     train_dataloader=training_dataloader,\n",
    "                     test_dataloader=testing_dataloader,\n",
    "                     loss_fn=loss_fn,\n",
    "                     other_metric=l1_loss,\n",
    "                     device = device,\n",
    "                     epochs = 5,\n",
    "                     optimizer=optimizer,\n",
    "                     writer=writer)"
   ]
  },
  {
   "cell_type": "code",
   "execution_count": 9,
   "id": "e9296b13-a300-482e-b1eb-7dfed447bf3c",
   "metadata": {},
   "outputs": [
    {
     "data": {
      "text/plain": [
       "{'train_loss': [14319.839179508388,\n",
       "  46.38660030812025,\n",
       "  34.3689235933125,\n",
       "  29.31707430165261,\n",
       "  21.195635460317135],\n",
       " 'train_metric': [47.95411783643067,\n",
       "  5.5327390637248755,\n",
       "  4.6764541156589985,\n",
       "  4.504121230915189,\n",
       "  3.6436168551445007],\n",
       " 'test_loss': [31.153695285320282,\n",
       "  31.35831931233406,\n",
       "  9.816630616784096,\n",
       "  11.230083957314491,\n",
       "  12.963814869523048],\n",
       " 'test_metric': [4.611179582774639,\n",
       "  4.892353817820549,\n",
       "  2.5618740543723106,\n",
       "  2.8352025374770164,\n",
       "  3.0919458121061325]}"
      ]
     },
     "execution_count": 9,
     "metadata": {},
     "output_type": "execute_result"
    }
   ],
   "source": [
    "model_results"
   ]
  },
  {
   "cell_type": "code",
   "execution_count": 18,
   "id": "29e0884b-4448-4248-a00c-291da777cdd9",
   "metadata": {},
   "outputs": [
    {
     "data": {
      "text/html": [
       "\n",
       "      <iframe id=\"tensorboard-frame-1d76c09d9a1f3c68\" width=\"100%\" height=\"800\" frameborder=\"0\">\n",
       "      </iframe>\n",
       "      <script>\n",
       "        (function() {\n",
       "          const frame = document.getElementById(\"tensorboard-frame-1d76c09d9a1f3c68\");\n",
       "          const url = new URL(\"/\", window.location);\n",
       "          const port = 6006;\n",
       "          if (port) {\n",
       "            url.port = port;\n",
       "          }\n",
       "          frame.src = url;\n",
       "        })();\n",
       "      </script>\n",
       "    "
      ],
      "text/plain": [
       "<IPython.core.display.HTML object>"
      ]
     },
     "metadata": {},
     "output_type": "display_data"
    }
   ],
   "source": [
    "%tensorboard --logdir runs --port 6006"
   ]
  },
  {
   "cell_type": "code",
   "execution_count": 19,
   "id": "ae00aa55-9426-4b1c-9ed0-a69bb2be612b",
   "metadata": {},
   "outputs": [
    {
     "name": "stdout",
     "output_type": "stream",
     "text": [
      "/bin/bash: lsof: command not found\n"
     ]
    }
   ],
   "source": [
    "\n"
   ]
  }
 ],
 "metadata": {
  "kernelspec": {
   "display_name": "pytorch_older_2",
   "language": "python",
   "name": "pytorch_older_2"
  },
  "language_info": {
   "codemirror_mode": {
    "name": "ipython",
    "version": 3
   },
   "file_extension": ".py",
   "mimetype": "text/x-python",
   "name": "python",
   "nbconvert_exporter": "python",
   "pygments_lexer": "ipython3",
   "version": "3.8.18"
  }
 },
 "nbformat": 4,
 "nbformat_minor": 5
}
